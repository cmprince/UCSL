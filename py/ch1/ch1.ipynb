{
 "cells": [
  {
   "cell_type": "markdown",
   "metadata": {},
   "source": [
    "# UCSL Python Challenge 1\n",
    "**Christopher Prince (cmp670@nyu.edu)**\n",
    "\n",
    "**14 July 2015**"
   ]
  },
  {
   "cell_type": "markdown",
   "metadata": {},
   "source": [
    "Here is a test of putting my homework assignment into a Jupyter notebook. First let's look at..."
   ]
  },
  {
   "cell_type": "markdown",
   "metadata": {},
   "source": [
    "## Problem 1"
   ]
  },
  {
   "cell_type": "markdown",
   "metadata": {},
   "source": [
    "Write a program which takes 2 digits, *X, Y* as input and generates a 2-dimensional array. The element value in the `i`-th row and `j`-th column of the array should be `i*j`.\n",
    "\n",
    ">Note: `i`=0,1.., *X*-1; `j`=0,1,..,*Y*-1.\n"
   ]
  },
  {
   "cell_type": "code",
   "execution_count": 1,
   "metadata": {
    "collapsed": false
   },
   "outputs": [
    {
     "name": "stdout",
     "output_type": "stream",
     "text": [
      "Numbers?a,b\n",
      "Invalid number or type of entries\n",
      "Numbers?2,t\n",
      "Invalid number or type of entries\n",
      "Numbers?4,5\n",
      "[[0, 0, 0, 0, 0], [0, 1, 2, 3, 4], [0, 2, 4, 6, 8], [0, 3, 6, 9, 12]]\n"
     ]
    }
   ],
   "source": [
    "#Loop until a valid entry is given\n",
    "while True:\n",
    "    try:\n",
    "        x, y = input('Numbers?')\n",
    "        x = int(x)\n",
    "        y = int(y)\n",
    "        break\n",
    "    except:\n",
    "        print('Invalid number or type of entries')\n",
    "\n",
    "#Use list comprehension to generate the list-of-lists\n",
    "a = [[i*j for i in xrange(y)] for j in xrange(x)]\n",
    "\n",
    "print a"
   ]
  },
  {
   "cell_type": "markdown",
   "metadata": {},
   "source": [
    "##Problem 2:\n",
    "\n",
    "Write a program that accepts a sequence of whitespace separated words as input and prints the words after removing all duplicate words and sorting them alphanumerically."
   ]
  },
  {
   "cell_type": "code",
   "execution_count": 2,
   "metadata": {
    "collapsed": false
   },
   "outputs": [
    {
     "name": "stdout",
     "output_type": "stream",
     "text": [
      "Enter a string to parse: hello world and practice makes perfect and hello world again and doing this again is worthwhile\n",
      "again and doing hello is makes perfect practice this world worthwhile\n"
     ]
    }
   ],
   "source": [
    "strInput = raw_input('Enter a string to parse: ')\n",
    "listWords = strInput.split()\n",
    "\n",
    "#removes duplicates:\n",
    "setWords = set(listWords)\n",
    "#sort and rejoin with single spaces\n",
    "print ' '.join(sorted(setWords))"
   ]
  },
  {
   "cell_type": "markdown",
   "metadata": {},
   "source": [
    "##Question 3:\n",
    "\n",
    "Write a program that accepts a sentence and calculate the number of upper case letters and lower case letters.\n",
    "\n",
    "Here we found a useful set of constants in the `string` module, so we can calculate more than just letters:"
   ]
  },
  {
   "cell_type": "code",
   "execution_count": 3,
   "metadata": {
    "collapsed": false
   },
   "outputs": [
    {
     "name": "stdout",
     "output_type": "stream",
     "text": [
      "String to parse: Hello world. I wonder how many 'hello worlds' I've written? 50? 100?\n",
      "UPPER CASE: 3\n",
      "LOWER CASE: 42\n",
      "DIGITS: 5\n",
      "PUNCTUATION: 7\n",
      "WHITESPACE CHARACTERS: 11\n",
      "NONE OF THE ABOVE: 0\n"
     ]
    }
   ],
   "source": [
    "#use the constants in the string module\n",
    "import string\n",
    "\n",
    "#initialize all counts as zero (is this necessary?)\n",
    "intUpper = intLower = intWhite = intPunct = intDigit = intOther = 0\n",
    "\n",
    "strInput = raw_input('String to parse: ')\n",
    "#loop through string by character and test for membership in various classes\n",
    "for ctr in strInput:\n",
    "    if ctr in string.uppercase:\n",
    "        intUpper += 1\n",
    "    elif ctr in string.lowercase:\n",
    "        intLower += 1\n",
    "    elif ctr in string.whitespace:\n",
    "        intWhite += 1\n",
    "    elif ctr in string.punctuation:\n",
    "        intPunct += 1\n",
    "    elif ctr in string.digits:\n",
    "        intDigit += 1\n",
    "    else:\n",
    "        intOther += 1\n",
    "        \n",
    "print 'UPPER CASE: %d' % intUpper \n",
    "print 'LOWER CASE: %d' % intLower \n",
    "print 'DIGITS: %d' % intDigit \n",
    "print 'PUNCTUATION: %d' % intPunct \n",
    "print 'WHITESPACE CHARACTERS: %d' % intWhite \n",
    "print 'NONE OF THE ABOVE: %d' % intOther "
   ]
  },
  {
   "cell_type": "markdown",
   "metadata": {},
   "source": [
    "Cool. So I'm guessing invoking these as functions would be easier so that the solutions can be tested multiple times in additional cells."
   ]
  },
  {
   "cell_type": "code",
   "execution_count": 4,
   "metadata": {
    "collapsed": true
   },
   "outputs": [],
   "source": [
    "def prob1():\n",
    "    #Loop until a valid entry is given\n",
    "    while True:\n",
    "        try:\n",
    "            xdim, ydim = input('Numbers?')\n",
    "            xdim = int(xdim)\n",
    "            ydim = int(ydim)\n",
    "            break\n",
    "        except:\n",
    "            print('Invalid number or type of entries')\n",
    "    xy_array(xdim,ydim)\n",
    "\n",
    "def xy_array(x, y):            \n",
    "    #Use list comprehension to generate the list-of-lists\n",
    "    a = [[i*j for i in xrange(y)] for j in xrange(x)]\n",
    "    print a"
   ]
  },
  {
   "cell_type": "code",
   "execution_count": 5,
   "metadata": {
    "collapsed": false
   },
   "outputs": [
    {
     "name": "stdout",
     "output_type": "stream",
     "text": [
      "Numbers?4,5\n",
      "[[0, 0, 0, 0, 0], [0, 1, 2, 3, 4], [0, 2, 4, 6, 8], [0, 3, 6, 9, 12]]\n"
     ]
    }
   ],
   "source": [
    "prob1()"
   ]
  },
  {
   "cell_type": "markdown",
   "metadata": {},
   "source": [
    "Again, with feeling."
   ]
  },
  {
   "cell_type": "code",
   "execution_count": 6,
   "metadata": {
    "collapsed": false
   },
   "outputs": [
    {
     "name": "stdout",
     "output_type": "stream",
     "text": [
      "Numbers?5,t\n",
      "Invalid number or type of entries\n",
      "Numbers?17,5\n",
      "[[0, 0, 0, 0, 0], [0, 1, 2, 3, 4], [0, 2, 4, 6, 8], [0, 3, 6, 9, 12], [0, 4, 8, 12, 16], [0, 5, 10, 15, 20], [0, 6, 12, 18, 24], [0, 7, 14, 21, 28], [0, 8, 16, 24, 32], [0, 9, 18, 27, 36], [0, 10, 20, 30, 40], [0, 11, 22, 33, 44], [0, 12, 24, 36, 48], [0, 13, 26, 39, 52], [0, 14, 28, 42, 56], [0, 15, 30, 45, 60], [0, 16, 32, 48, 64]]\n"
     ]
    }
   ],
   "source": [
    "prob1()"
   ]
  }
 ],
 "metadata": {
  "kernelspec": {
   "display_name": "Python 2",
   "language": "python",
   "name": "python2"
  },
  "language_info": {
   "codemirror_mode": {
    "name": "ipython",
    "version": 2
   },
   "file_extension": ".py",
   "mimetype": "text/x-python",
   "name": "python",
   "nbconvert_exporter": "python",
   "pygments_lexer": "ipython2",
   "version": "2.7.6"
  }
 },
 "nbformat": 4,
 "nbformat_minor": 0
}
